{
 "cells": [
  {
   "cell_type": "markdown",
   "id": "1a360e18",
   "metadata": {},
   "source": [
    "## SECTION 1: Logic & Problem Solving\n",
    "> 1. Write a function that returns the second-largest number in a given list of integers."
   ]
  },
  {
   "cell_type": "code",
   "execution_count": null,
   "id": "01e5b737",
   "metadata": {},
   "outputs": [
    {
     "name": "stdout",
     "output_type": "stream",
     "text": [
      "9\n"
     ]
    }
   ],
   "source": [
    "int_list = [6,8,45,3,7,9,5,4,1] \n",
    "int_list.sort() # use the sort() method to sort the list in ascending order\n",
    "print(int_list[-2]) # print the second largest element by accessing the second last index"
   ]
  },
  {
   "cell_type": "markdown",
   "id": "b4cb566a",
   "metadata": {},
   "source": [
    "to access the second largest number, i first defined a list of integers, then used inbuilt python method named sort() to sort integers from smallest to the largest, the accessed the second last using -2 index"
   ]
  },
  {
   "cell_type": "markdown",
   "id": "7a6ee814",
   "metadata": {},
   "source": [
    " 2.  Explain how you would optimize a page that loads too slowly\n",
    "* First is to test the page using a tool like Google PageSpeed Insights  to identify issues such as large files, unoptimized images, or excessive HTTP requests. This tool helps in pin pointing and fixing the problems fast without wasting time making the page load faster with minimal disruptions or downtime.\n",
    "\n",
    ">  Mention at least three causes and how you’d fix each.\n",
    "* For excessive HTTP requests, I would reduce the number of the requests by combining CSS and JavaScript files, using CSS sprites for multiple images, and minimizing the number of resources loaded on the page\n",
    "* For unoptimized images, I will optimize images by compressing them and choosing the right file format for example use JPEG for photographs due to its smaller size and good quality and convert GIFs to video formats for better quality and smaller file sizes\n",
    "* And for large files issue, I would implement server side caching and consider using a Content Delivery Network  to serve content faster to users worldwide."
   ]
  },
  {
   "cell_type": "markdown",
   "id": "0e5013f0",
   "metadata": {},
   "source": [
    "## SECTION 2: Web/Software Development \n",
    "\n",
    "> 3. (Front-end):\n",
    " You are creating a simple profile page that fetches user data from an API (https://jsonplaceholder.typicode.com/users/1).\n",
    " Explain or show code for:\n",
    "Fetching and displaying the user’s name and email.\n",
    "Handling the loading and error states.\n",
    "\n",
    "```\n",
    "import React, { useState, useEffect } from 'react';\n",
    "\n",
    "function ProfilePage() {\n",
    "  const [user, setUser] = useState(null);\n",
    "  const [isLoading, setIsLoading] = useState(true);\n",
    "  const [error, setError] = useState(null);\n",
    "\n",
    "  useEffect(() => {\n",
    "    const fetchUserData = async () => {\n",
    "      try {\n",
    "        const response = await fetch('https://jsonplaceholder.typicode.com/users/1');\n",
    "        const data = await response.json();\n",
    "        setUser(data);\n",
    "        setIsLoading(false);\n",
    "      } catch (error) {\n",
    "        setError(error);\n",
    "        setIsLoading(false);\n",
    "      }\n",
    "    };\n",
    "\n",
    "    fetchUserData();\n",
    "  }, []);\n",
    "\n",
    "  if (isLoading) {\n",
    "    return <div>Loading...</div>;\n",
    "  }\n",
    "\n",
    "  if (error) {\n",
    "    return <div>Error: {error.message}</div>;\n",
    "  }\n",
    "\n",
    "  return (\n",
    "    <div>\n",
    "      <h1>Profile Page</h1>\n",
    "      <p>Name: {user.name}</p>\n",
    "      <p>Email: {user.email}</p>\n",
    "    </div>\n",
    "  );\n",
    "}\n",
    "\n",
    "export default ProfilePage;\n",
    "\n",
    "\n",
    "\n",
    "\n",
    "\n",
    "```\n"
   ]
  },
  {
   "cell_type": "markdown",
   "id": "a129940f",
   "metadata": {},
   "source": [
    "> 4.  (Back-end / Logic):\n",
    " A small store wants to calculate total sales from this dataset:\n",
    "```[\n",
    "  {\"item\": \"Pen\", \"price\": 20, \"quantity\": 3},\n",
    "  {\"item\": \"Book\", \"price\": 200, \"quantity\": 2},\n",
    "  {\"item\": \"Bag\", \"price\": 800, \"quantity\": 1}\n",
    "]\n",
    "``` \n",
    "\n",
    "Write a short function to calculate the total revenue."
   ]
  },
  {
   "cell_type": "code",
   "execution_count": 11,
   "id": "86dfc4a3",
   "metadata": {},
   "outputs": [
    {
     "name": "stdout",
     "output_type": "stream",
     "text": [
      "1260\n"
     ]
    }
   ],
   "source": [
    "items = {\n",
    "    \"Pen\": {\"price\": 20, \"quantity\": 3},\n",
    "    \"Book\": {\"price\": 200, \"quantity\": 2},\n",
    "    \"Bag\": {\"price\": 800, \"quantity\": 1}\n",
    "}\n",
    "\n",
    "def total_revenue(items):\n",
    "    total = 0\n",
    "    for item in items.values():\n",
    "        total += item[\"price\"] * item[\"quantity\"]\n",
    "    return total\n",
    "print(total_revenue(items)) "
   ]
  },
  {
   "cell_type": "markdown",
   "id": "d3ec5cdb",
   "metadata": {},
   "source": [
    "## SECTION 3: Debugging & Reasoning \n",
    "> 5. You’ve been given this code snippet:\n",
    " ```\n",
    "numbers = [1, 2, 3, 4, 5]\n",
    "for i in range(len(numbers)):\n",
    "    if i % 2 == 0:\n",
    "        numbers.remove(i)\n",
    "print(numbers)\n",
    "```\n",
    "> What’s wrong with the code?\n",
    "* The loop is iterating over the indices of the numbers list, and if the index i is even, it removes the element at that index. However, as the elements are removed, the indices shift reducing the number of items in the list causing ValueError: list.remove(i): i not in list since the for loop iterates using the initial length\n",
    "\n",
    "\n",
    "> What will it output?\n",
    "* ValueError: list.remove(x): x not in list\n",
    "\n",
    "\n",
    "> How would you fix it to remove even numbers correctly?\n"
   ]
  },
  {
   "cell_type": "code",
   "execution_count": 9,
   "id": "5c9816c6",
   "metadata": {},
   "outputs": [
    {
     "name": "stdout",
     "output_type": "stream",
     "text": [
      "[1, 3, 5]\n"
     ]
    }
   ],
   "source": [
    "numbers = [1, 2, 3, 4, 5]\n",
    "for i in numbers:\n",
    "    if i % 2 == 0:\n",
    "        numbers.remove(i)\n",
    "print(numbers)"
   ]
  },
  {
   "cell_type": "markdown",
   "id": "339843f3",
   "metadata": {},
   "source": [
    "## SECTION 4: Version Control & Collaboration\n",
    "> 6:Explain how you would use Git to collaborate on a team project with other developers.\n",
    "* In a team project when members are assigned tasks to make different features, I would create a branch and name it to the feature I have added and push to be merged by head of the project\n",
    "Mention at least:\n",
    ">One common Git command you use often.\n",
    "* git status\n",
    "\n",
    "> One problem you’ve faced while using Git and how you solved it.\n",
    "* Pulling from a branch with unrelated history so I usually use the command below\n",
    "* git pull origin <branch name> --allow-unrelated-histories\n"
   ]
  },
  {
   "cell_type": "markdown",
   "id": "1c104aec",
   "metadata": {},
   "source": []
  }
 ],
 "metadata": {
  "kernelspec": {
   "display_name": "base",
   "language": "python",
   "name": "python3"
  },
  "language_info": {
   "codemirror_mode": {
    "name": "ipython",
    "version": 3
   },
   "file_extension": ".py",
   "mimetype": "text/x-python",
   "name": "python",
   "nbconvert_exporter": "python",
   "pygments_lexer": "ipython3",
   "version": "3.12.4"
  }
 },
 "nbformat": 4,
 "nbformat_minor": 5
}
